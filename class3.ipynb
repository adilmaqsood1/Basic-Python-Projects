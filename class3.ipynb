{
 "cells": [
  {
   "cell_type": "markdown",
   "id": "d4773a60-dab0-480f-a481-fffc0eb7d4e2",
   "metadata": {
    "tags": []
   },
   "source": [
    "# class-3 "
   ]
  },
  {
   "cell_type": "markdown",
   "id": "35df0760-9a78-43a7-b96a-b253e997bdbb",
   "metadata": {},
   "source": [
    "## Applying 45 strong class method or card variable"
   ]
  },
  {
   "cell_type": "code",
   "execution_count": 16,
   "id": "c13f7d12-92b1-4ddf-be04-edbdd13787d6",
   "metadata": {},
   "outputs": [
    {
     "name": "stdout",
     "output_type": "stream",
     "text": [
      "Institute Name: Saylani Mass IT Training\n",
      "Student Full Name: Adil Maqsood\n",
      "Student id : AI-1191102\n",
      "Age: 21\n",
      "\n",
      "\n"
     ]
    }
   ],
   "source": [
    "first_name = \"Adil\"\n",
    "last_name = \"Maqsood\"\n",
    "student_id = \"AI-1191102\"\n",
    "institute_name = \"Saylani Mass IT Training\"\n",
    "age = 21\n",
    "\n",
    "\n",
    "card = f\"\"\"Institute Name: {institute_name}\n",
    "Student Full Name: {first_name} {last_name}\n",
    "Student id : {student_id}\n",
    "Age: {age}\n",
    "\n",
    "\"\"\"\n",
    "print(card)"
   ]
  },
  {
   "cell_type": "code",
   "execution_count": 7,
   "id": "1b414d4f-2692-4fcf-8675-593df261dd08",
   "metadata": {},
   "outputs": [
    {
     "name": "stdout",
     "output_type": "stream",
     "text": [
      "0 capitalize\n",
      "1 casefold\n",
      "2 center\n",
      "3 count\n",
      "4 encode\n",
      "5 endswith\n",
      "6 expandtabs\n",
      "7 find\n",
      "8 format\n",
      "9 index\n",
      "10 isalnum\n",
      "11 isalpha\n",
      "12 isascii\n",
      "13 isdecimal\n",
      "14 isdigit\n",
      "15 isidentifier\n",
      "16 islower\n",
      "17 isnumeric\n",
      "18 isprintable\n",
      "19 isspace\n",
      "20 istitle\n",
      "21 isupper\n",
      "22 join\n",
      "23 ljust\n",
      "24 lower\n",
      "25 lstrip\n",
      "26 maketrans\n",
      "27 partition\n",
      "28 removeprefix\n",
      "29 removesuffix\n",
      "30 replace\n",
      "31 rfind\n",
      "32 rindex\n",
      "33 rjust\n",
      "34 rpartition\n",
      "35 rsplit\n",
      "36 rstrip\n",
      "37 split\n",
      "38 splitlines\n",
      "39 startswith\n",
      "40 strip\n",
      "41 swapcase\n",
      "42 title\n",
      "43 translate\n",
      "44 upper\n",
      "45 zfill\n"
     ]
    }
   ],
   "source": [
    "for  idx, i in enumerate([i for i in dir(card) if \"_\" not in i]):\n",
    "    print(idx,i)"
   ]
  },
  {
   "cell_type": "code",
   "execution_count": 19,
   "id": "d42e15f8-ccd4-480a-9c2d-140cdd7f7ff5",
   "metadata": {},
   "outputs": [
    {
     "name": "stdout",
     "output_type": "stream",
     "text": [
      "Institute name: saylani mass it training\n",
      "student full name: adil maqsood\n",
      "student id : ai-1191102\n",
      "age: 21\n",
      "\n",
      "\n"
     ]
    }
   ],
   "source": [
    "print(card.capitalize())"
   ]
  },
  {
   "cell_type": "code",
   "execution_count": 18,
   "id": "83faa626-534b-4199-8cfc-42005e898d83",
   "metadata": {},
   "outputs": [
    {
     "name": "stdout",
     "output_type": "stream",
     "text": [
      "institute name: saylani mass it training\n",
      "student full name: adil maqsood\n",
      "student id : ai-1191102\n",
      "age: 21\n",
      "\n",
      "\n"
     ]
    }
   ],
   "source": [
    "print(card.casefold())"
   ]
  },
  {
   "cell_type": "code",
   "execution_count": 44,
   "id": "13cf6cae-d0f2-4fbd-afe0-973e4a61185a",
   "metadata": {},
   "outputs": [
    {
     "name": "stdout",
     "output_type": "stream",
     "text": [
      "Institute Name: Saylani Mass IT Training\n",
      "Student Full Name: Adil Maqsood\n",
      "Student id : AI-1191102\n",
      "Age: 21\n",
      "\n",
      "\n"
     ]
    }
   ],
   "source": [
    "print(card.center(1))"
   ]
  },
  {
   "cell_type": "code",
   "execution_count": 105,
   "id": "b4cbb5c6-ec81-4653-aa1f-3468f882f522",
   "metadata": {},
   "outputs": [
    {
     "name": "stdout",
     "output_type": "stream",
     "text": [
      "                  adil                  \n"
     ]
    }
   ],
   "source": [
    "example = \"adil\"\n",
    "\n",
    "a = example.center(40)\n",
    "\n",
    "print(a)\n"
   ]
  },
  {
   "cell_type": "code",
   "execution_count": 47,
   "id": "d98619ca-d1bb-47b7-bdfb-86f53ed71d08",
   "metadata": {},
   "outputs": [
    {
     "name": "stdout",
     "output_type": "stream",
     "text": [
      "Institute Name: Saylani Mass IT Training\n",
      "Student Full Name: Adil Maqsood\n",
      "Student id : AI-1191102\n",
      "Age: 21\n",
      "\n",
      "\n"
     ]
    },
    {
     "data": {
      "text/plain": [
       "2"
      ]
     },
     "execution_count": 47,
     "metadata": {},
     "output_type": "execute_result"
    }
   ],
   "source": [
    "print(card)\n",
    "card.count('Name')"
   ]
  },
  {
   "cell_type": "code",
   "execution_count": 75,
   "id": "6cc77d62-c9b5-4b9b-adf0-6a01bf1dbdc8",
   "metadata": {},
   "outputs": [
    {
     "name": "stdout",
     "output_type": "stream",
     "text": [
      "Institute Name: Saylani Mass IT Training\n",
      "Student Full Name: Adil Maqsood\n",
      "Student id : AI-1191102\n",
      "Age: 21\n",
      "\n",
      "\n"
     ]
    },
    {
     "data": {
      "text/plain": [
       "b'Institute Name: Saylani Mass IT Training\\nStudent Full Name: Adil Maqsood\\nStudent id : AI-1191102\\nAge: 21\\n\\n'"
      ]
     },
     "execution_count": 75,
     "metadata": {},
     "output_type": "execute_result"
    }
   ],
   "source": [
    "print(card)\n",
    "card.encode()"
   ]
  },
  {
   "cell_type": "code",
   "execution_count": 110,
   "id": "01a70c65-7814-4d5b-a0a6-138da85cedd4",
   "metadata": {},
   "outputs": [
    {
     "name": "stdout",
     "output_type": "stream",
     "text": [
      "Institute Name: Saylani Mass IT Training\n",
      "Student Full Name: Adil Maqsood\n",
      "Student id : AI-1191102\n",
      "Age: 21\n",
      "\n",
      "\n"
     ]
    },
    {
     "data": {
      "text/plain": [
       "False"
      ]
     },
     "execution_count": 110,
     "metadata": {},
     "output_type": "execute_result"
    }
   ],
   "source": [
    "print(card)\n",
    "card.endswith(\"Adil\")"
   ]
  },
  {
   "cell_type": "code",
   "execution_count": 112,
   "id": "6f44742a-48a3-4890-a5d7-74e76ac8b9d3",
   "metadata": {},
   "outputs": [
    {
     "name": "stdout",
     "output_type": "stream",
     "text": [
      "Institute Name: Saylani Mass IT Training\n",
      "Student Full Name: Adil Maqsood\n",
      "Student id : AI-1191102\n",
      "Age: 21\n",
      "\n",
      "\n"
     ]
    }
   ],
   "source": [
    "card.expandtabs()\n",
    "print(card)"
   ]
  },
  {
   "cell_type": "code",
   "execution_count": 101,
   "id": "f0070a9c-d65b-479e-9cd7-10a49389f22e",
   "metadata": {},
   "outputs": [
    {
     "name": "stdout",
     "output_type": "stream",
     "text": [
      "A   d   i   l\n",
      "A    d    i    l\n",
      "A     d     i     l\n"
     ]
    }
   ],
   "source": [
    "example = \"A\\td\\ti\\tl\"\n",
    "\n",
    "print(example.expandtabs(4))\n",
    "print(example.expandtabs(5))\n",
    "print(example.expandtabs(6))"
   ]
  },
  {
   "cell_type": "code",
   "execution_count": 84,
   "id": "c05c92ad-7db1-4ea0-a057-4fcf201605c9",
   "metadata": {},
   "outputs": [
    {
     "name": "stdout",
     "output_type": "stream",
     "text": [
      "Institute Name: Saylani Mass IT Training\n",
      "Student Full Name: Adil Maqsood\n",
      "Student id : AI-1191102\n",
      "Age: 21\n",
      "\n",
      "\n"
     ]
    },
    {
     "data": {
      "text/plain": [
       "3"
      ]
     },
     "execution_count": 84,
     "metadata": {},
     "output_type": "execute_result"
    }
   ],
   "source": [
    "print(card)\n",
    "card.find('t')"
   ]
  },
  {
   "cell_type": "code",
   "execution_count": 113,
   "id": "f03fe0ed-d880-4be9-99f1-6afca9d9246d",
   "metadata": {},
   "outputs": [
    {
     "name": "stdout",
     "output_type": "stream",
     "text": [
      "Institute Name: Saylani Mass IT Training\n",
      "Student Full Name: Adil Maqsood\n",
      "Student id : AI-1191102\n",
      "Age: 21\n",
      "\n",
      "\n"
     ]
    },
    {
     "data": {
      "text/plain": [
       "'Institute Name: Saylani Mass IT Training\\nStudent Full Name: Adil Maqsood\\nStudent id : AI-1191102\\nAge: 21\\n\\n'"
      ]
     },
     "execution_count": 113,
     "metadata": {},
     "output_type": "execute_result"
    }
   ],
   "source": [
    "print(card)\n",
    "card.format()\n"
   ]
  },
  {
   "cell_type": "code",
   "execution_count": 114,
   "id": "b7a672a8-ae04-46be-b941-70529c224c01",
   "metadata": {},
   "outputs": [
    {
     "name": "stdout",
     "output_type": "stream",
     "text": [
      "For only 50.10 dollars!\n"
     ]
    }
   ],
   "source": [
    "txt = \"For only {price:.2f} dollars!\" # .2f is a place holder for floating number\n",
    "print(txt.format(price = 50.1))\n"
   ]
  },
  {
   "cell_type": "code",
   "execution_count": 123,
   "id": "cd9bdd44-74fb-42fa-b342-25547ea33263",
   "metadata": {},
   "outputs": [
    {
     "name": "stdout",
     "output_type": "stream",
     "text": [
      "Institute Name: Saylani Mass IT Training\n",
      "Student Full Name: Adil Maqsood\n",
      "Student id : AI-1191102\n",
      "Age: 21\n",
      "\n",
      "\n"
     ]
    },
    {
     "data": {
      "text/plain": [
       "3"
      ]
     },
     "execution_count": 123,
     "metadata": {},
     "output_type": "execute_result"
    }
   ],
   "source": [
    "print(card)\n",
    "card.index(\"t\")"
   ]
  },
  {
   "cell_type": "code",
   "execution_count": 125,
   "id": "2e8098a4-90df-4c97-b873-7cac6fa16c36",
   "metadata": {},
   "outputs": [
    {
     "name": "stdout",
     "output_type": "stream",
     "text": [
      "Institute Name: Saylani Mass IT Training\n",
      "Student Full Name: Adil Maqsood\n",
      "Student id : AI-1191102\n",
      "Age: 21\n",
      "\n",
      "\n"
     ]
    },
    {
     "data": {
      "text/plain": [
       "False"
      ]
     },
     "execution_count": 125,
     "metadata": {},
     "output_type": "execute_result"
    }
   ],
   "source": [
    "print(card)\n",
    "card.isalnum() #The isalnum() method returns True if all the characters are alphanumeric, meaning alphabet letter (a-z) and numbers (0-9)."
   ]
  },
  {
   "cell_type": "code",
   "execution_count": 127,
   "id": "c6c6c99c-00a4-45a1-ac1a-0689f7897fac",
   "metadata": {},
   "outputs": [
    {
     "name": "stdout",
     "output_type": "stream",
     "text": [
      "Institute Name: Saylani Mass IT Training\n",
      "Student Full Name: Adil Maqsood\n",
      "Student id : AI-1191102\n",
      "Age: 21\n",
      "\n",
      "\n"
     ]
    },
    {
     "data": {
      "text/plain": [
       "False"
      ]
     },
     "execution_count": 127,
     "metadata": {},
     "output_type": "execute_result"
    }
   ],
   "source": [
    "print(card)\n",
    "card.isalpha() #The isalpha() method returns True if all the characters are alphabet letters (a-z)."
   ]
  },
  {
   "cell_type": "code",
   "execution_count": 129,
   "id": "cd08e957-e7c9-4aff-bc9a-120534e2cc41",
   "metadata": {},
   "outputs": [
    {
     "name": "stdout",
     "output_type": "stream",
     "text": [
      "Institute Name: Saylani Mass IT Training\n",
      "Student Full Name: Adil Maqsood\n",
      "Student id : AI-1191102\n",
      "Age: 21\n",
      "\n",
      "\n"
     ]
    },
    {
     "data": {
      "text/plain": [
       "True"
      ]
     },
     "execution_count": 129,
     "metadata": {},
     "output_type": "execute_result"
    }
   ],
   "source": [
    "print(card)\n",
    "card.isascii() #The isascii() method returns True if all the characters are ascii characters  (a-z)."
   ]
  },
  {
   "cell_type": "code",
   "execution_count": 130,
   "id": "26e19c7e-d1c8-45aa-9cdc-43d07f6d7d41",
   "metadata": {},
   "outputs": [
    {
     "name": "stdout",
     "output_type": "stream",
     "text": [
      "Institute Name: Saylani Mass IT Training\n",
      "Student Full Name: Adil Maqsood\n",
      "Student id : AI-1191102\n",
      "Age: 21\n",
      "\n",
      "\n"
     ]
    },
    {
     "data": {
      "text/plain": [
       "False"
      ]
     },
     "execution_count": 130,
     "metadata": {},
     "output_type": "execute_result"
    }
   ],
   "source": [
    "print(card)\n",
    "card.isdecimal() #The isdecimal() method returns True if all the characters are decimals (0-9)."
   ]
  },
  {
   "cell_type": "code",
   "execution_count": 131,
   "id": "39f19bfc-9122-49cf-b58f-3666e4bed5da",
   "metadata": {},
   "outputs": [
    {
     "name": "stdout",
     "output_type": "stream",
     "text": [
      "Institute Name: Saylani Mass IT Training\n",
      "Student Full Name: Adil Maqsood\n",
      "Student id : AI-1191102\n",
      "Age: 21\n",
      "\n",
      "\n"
     ]
    },
    {
     "data": {
      "text/plain": [
       "False"
      ]
     },
     "execution_count": 131,
     "metadata": {},
     "output_type": "execute_result"
    }
   ],
   "source": [
    "print(card)\n",
    "card.isdigit()  #isdigit() method returns True if all the characters are digits, otherwise False."
   ]
  },
  {
   "cell_type": "code",
   "execution_count": 132,
   "id": "6bef4dee-c3db-48ea-9240-7d01fce626a1",
   "metadata": {},
   "outputs": [
    {
     "name": "stdout",
     "output_type": "stream",
     "text": [
      "Institute Name: Saylani Mass IT Training\n",
      "Student Full Name: Adil Maqsood\n",
      "Student id : AI-1191102\n",
      "Age: 21\n",
      "\n",
      "\n"
     ]
    },
    {
     "data": {
      "text/plain": [
       "False"
      ]
     },
     "execution_count": 132,
     "metadata": {},
     "output_type": "execute_result"
    }
   ],
   "source": [
    "print(card)\n",
    "card.isidentifier() #The isidentifier() method returns True if the string is a valid identifier, otherwise False."
   ]
  },
  {
   "cell_type": "code",
   "execution_count": 133,
   "id": "3c2d7a33-2de2-46ba-9819-e488e8919a05",
   "metadata": {},
   "outputs": [
    {
     "name": "stdout",
     "output_type": "stream",
     "text": [
      "Institute Name: Saylani Mass IT Training\n",
      "Student Full Name: Adil Maqsood\n",
      "Student id : AI-1191102\n",
      "Age: 21\n",
      "\n",
      "\n"
     ]
    },
    {
     "data": {
      "text/plain": [
       "False"
      ]
     },
     "execution_count": 133,
     "metadata": {},
     "output_type": "execute_result"
    }
   ],
   "source": [
    "print(card)\n",
    "card.islower() #Returns True if all characters in the string are lower case"
   ]
  },
  {
   "cell_type": "code",
   "execution_count": 134,
   "id": "a7d9c1d3-cce8-4f81-871b-db3c6ca24f9a",
   "metadata": {},
   "outputs": [
    {
     "name": "stdout",
     "output_type": "stream",
     "text": [
      "Institute Name: Saylani Mass IT Training\n",
      "Student Full Name: Adil Maqsood\n",
      "Student id : AI-1191102\n",
      "Age: 21\n",
      "\n",
      "\n"
     ]
    },
    {
     "data": {
      "text/plain": [
       "False"
      ]
     },
     "execution_count": 134,
     "metadata": {},
     "output_type": "execute_result"
    }
   ],
   "source": [
    "print(card)\n",
    "card.isnumeric() #returns true if all characters in the string are numeric"
   ]
  },
  {
   "cell_type": "code",
   "execution_count": 135,
   "id": "c00b0f80-52a8-4943-8256-a76a2789959d",
   "metadata": {},
   "outputs": [
    {
     "name": "stdout",
     "output_type": "stream",
     "text": [
      "Institute Name: Saylani Mass IT Training\n",
      "Student Full Name: Adil Maqsood\n",
      "Student id : AI-1191102\n",
      "Age: 21\n",
      "\n",
      "\n"
     ]
    },
    {
     "data": {
      "text/plain": [
       "False"
      ]
     },
     "execution_count": 135,
     "metadata": {},
     "output_type": "execute_result"
    }
   ],
   "source": [
    "print(card)\n",
    "card.isprintable() #Returns True if all characters in the string are printable"
   ]
  },
  {
   "cell_type": "code",
   "execution_count": 136,
   "id": "bc446c36-da08-429b-bfc4-24f25d656b74",
   "metadata": {},
   "outputs": [
    {
     "name": "stdout",
     "output_type": "stream",
     "text": [
      "Institute Name: Saylani Mass IT Training\n",
      "Student Full Name: Adil Maqsood\n",
      "Student id : AI-1191102\n",
      "Age: 21\n",
      "\n",
      "\n"
     ]
    },
    {
     "data": {
      "text/plain": [
       "False"
      ]
     },
     "execution_count": 136,
     "metadata": {},
     "output_type": "execute_result"
    }
   ],
   "source": [
    "print(card)\n",
    "card.isspace() # Returns True if all characters in the string are whitespaces"
   ]
  },
  {
   "cell_type": "code",
   "execution_count": 138,
   "id": "f530033b-120a-4ba1-8481-53bb5a6ea35b",
   "metadata": {},
   "outputs": [
    {
     "name": "stdout",
     "output_type": "stream",
     "text": [
      "Institute Name: Saylani Mass IT Training\n",
      "Student Full Name: Adil Maqsood\n",
      "Student id : AI-1191102\n",
      "Age: 21\n",
      "\n",
      "\n"
     ]
    },
    {
     "data": {
      "text/plain": [
       "False"
      ]
     },
     "execution_count": 138,
     "metadata": {},
     "output_type": "execute_result"
    }
   ],
   "source": [
    "print(card)\n",
    "card.istitle() #returns True if all words in a text start with a upper case letter, AND the rest of the word are lower case letters, otherwise False."
   ]
  },
  {
   "cell_type": "code",
   "execution_count": 139,
   "id": "5755dfd2-cecf-40bb-9b75-fe60b7576744",
   "metadata": {},
   "outputs": [
    {
     "name": "stdout",
     "output_type": "stream",
     "text": [
      "Institute Name: Saylani Mass IT Training\n",
      "Student Full Name: Adil Maqsood\n",
      "Student id : AI-1191102\n",
      "Age: 21\n",
      "\n",
      "\n"
     ]
    },
    {
     "data": {
      "text/plain": [
       "False"
      ]
     },
     "execution_count": 139,
     "metadata": {},
     "output_type": "execute_result"
    }
   ],
   "source": [
    "print(card)\n",
    "card.isupper() #Returns True if all characters in the string are upper case"
   ]
  },
  {
   "cell_type": "code",
   "execution_count": 146,
   "id": "c74ca3e8-69aa-4851-974c-a8ab920a20f1",
   "metadata": {},
   "outputs": [
    {
     "name": "stdout",
     "output_type": "stream",
     "text": [
      "Institute Name: Saylani Mass IT Training\n",
      "Student Full Name: Adil Maqsood\n",
      "Student id : AI-1191102\n",
      "Age: 21\n",
      "\n",
      "\n"
     ]
    }
   ],
   "source": [
    "print(card) # A string must be specified as the separator.\n",
    "card = \"#\".join(card)"
   ]
  },
  {
   "cell_type": "code",
   "execution_count": 154,
   "id": "cfbbbb90-06c0-437f-87f7-778818d1e4c1",
   "metadata": {},
   "outputs": [
    {
     "name": "stdout",
     "output_type": "stream",
     "text": [
      "DAIS\n"
     ]
    }
   ],
   "source": [
    "first = \"AI\"\n",
    "last  = \"DS\"\n",
    "\n",
    "x = first.join(last)\n",
    "\n",
    "print (x)"
   ]
  },
  {
   "cell_type": "code",
   "execution_count": 160,
   "id": "08334dd3-5d42-4090-b405-54466e5145a1",
   "metadata": {},
   "outputs": [
    {
     "name": "stdout",
     "output_type": "stream",
     "text": [
      "I#n#s#t#i#t#u#t#e# #N#a#m#e#:# #S#a#y#l#a#n#i# #M#a#s#s# #I#T# #T#r#a#i#n#i#n#g#\n",
      "#S#t#u#d#e#n#t# #F#u#l#l# #N#a#m#e#:# #A#d#i#l# #M#a#q#s#o#o#d#\n",
      "#S#t#u#d#e#n#t# #i#d# #:# #A#I#-#1#1#9#1#1#0#2#\n",
      "#A#g#e#:# #2#1#\n",
      "#\n",
      "\n"
     ]
    },
    {
     "data": {
      "text/plain": [
       "'I#n#s#t#i#t#u#t#e# #N#a#m#e#:# #S#a#y#l#a#n#i# #M#a#s#s# #I#T# #T#r#a#i#n#i#n#g#\\n#S#t#u#d#e#n#t# #F#u#l#l# #N#a#m#e#:# #A#d#i#l# #M#a#q#s#o#o#d#\\n#S#t#u#d#e#n#t# #i#d# #:# #A#I#-#1#1#9#1#1#0#2#\\n#A#g#e#:# #2#1#\\n#\\n'"
      ]
     },
     "execution_count": 160,
     "metadata": {},
     "output_type": "execute_result"
    }
   ],
   "source": [
    "print(card)\n",
    "card.ljust(2) "
   ]
  },
  {
   "cell_type": "code",
   "execution_count": 162,
   "id": "61ea9acb-b84c-4faf-8185-5bebffcea3c5",
   "metadata": {},
   "outputs": [
    {
     "name": "stdout",
     "output_type": "stream",
     "text": [
      "python     is my favorite language.\n"
     ]
    }
   ],
   "source": [
    "txt = \"python\"\n",
    "\n",
    "x = txt.ljust(10)\n",
    "\n",
    "print(x, \"is my favorite language.\") #In the result, there are actually 14 whitespaces to the right of the word banana."
   ]
  },
  {
   "cell_type": "code",
   "execution_count": 7,
   "id": "f2734fd2-d85b-4191-8eea-44ba063d3a3d",
   "metadata": {},
   "outputs": [
    {
     "name": "stdout",
     "output_type": "stream",
     "text": [
      "Institute Name: Saylani Mass IT Training\n",
      "Student Full Name: Adil Maqsood\n",
      "Student id : AI-1191102\n",
      "Age: 21\n",
      "\n",
      "\n"
     ]
    }
   ],
   "source": [
    "first_name = \"Adil\"\n",
    "last_name = \"Maqsood\"\n",
    "student_id = \"AI-1191102\"\n",
    "institute_name = \"Saylani Mass IT Training\"\n",
    "age = 21\n",
    "\n",
    "\n",
    "card = f\"\"\"Institute Name: {institute_name}\n",
    "Student Full Name: {first_name} {last_name}\n",
    "Student id : {student_id}\n",
    "Age: {age}\n",
    "\n",
    "\"\"\"\n",
    "print(card)"
   ]
  },
  {
   "cell_type": "code",
   "execution_count": 9,
   "id": "cc509a53",
   "metadata": {},
   "outputs": [
    {
     "name": "stdout",
     "output_type": "stream",
     "text": [
      "Institute Name: Saylani Mass IT Training\n",
      "Student Full Name: Adil Maqsood\n",
      "Student id : AI-1191102\n",
      "Age: 21\n",
      "\n",
      "\n"
     ]
    },
    {
     "data": {
      "text/plain": [
       "'institute name: saylani mass it training\\nstudent full name: adil maqsood\\nstudent id : ai-1191102\\nage: 21\\n\\n'"
      ]
     },
     "execution_count": 9,
     "metadata": {},
     "output_type": "execute_result"
    }
   ],
   "source": [
    "print(card)\n",
    "card.lower() #Converts a string into lower case"
   ]
  },
  {
   "cell_type": "code",
   "execution_count": 10,
   "id": "7b1248bb",
   "metadata": {},
   "outputs": [
    {
     "name": "stdout",
     "output_type": "stream",
     "text": [
      "Institute Name: Saylani Mass IT Training\n",
      "Student Full Name: Adil Maqsood\n",
      "Student id : AI-1191102\n",
      "Age: 21\n",
      "\n",
      "\n"
     ]
    },
    {
     "data": {
      "text/plain": [
       "'Institute Name: Saylani Mass IT Training\\nStudent Full Name: Adil Maqsood\\nStudent id : AI-1191102\\nAge: 21\\n\\n'"
      ]
     },
     "execution_count": 10,
     "metadata": {},
     "output_type": "execute_result"
    }
   ],
   "source": [
    "print(card)\n",
    "card.lstrip() #lstrip() method removes any leading characters (space is the default leading character to remove)"
   ]
  },
  {
   "cell_type": "code",
   "execution_count": 15,
   "id": "99390168",
   "metadata": {},
   "outputs": [
    {
     "name": "stdout",
     "output_type": "stream",
     "text": [
      "Institute Name: Saylani Mass IT Training\n",
      "Student Full Name: Adil Maqsood\n",
      "Student id : AI-1191102\n",
      "Age: 21\n",
      "\n",
      "\n"
     ]
    },
    {
     "data": {
      "text/plain": [
       "{73: 75}"
      ]
     },
     "execution_count": 15,
     "metadata": {},
     "output_type": "execute_result"
    }
   ],
   "source": [
    "print(card)\n",
    "card.maketrans(\"I\", \"K\")\n"
   ]
  },
  {
   "cell_type": "code",
   "execution_count": 13,
   "id": "5a1e3475",
   "metadata": {},
   "outputs": [
    {
     "name": "stdout",
     "output_type": "stream",
     "text": [
      "Hello Pam!\n"
     ]
    }
   ],
   "source": [
    "txt = \"Hello Sam!\"\n",
    "\n",
    "mytable = str.maketrans(\"S\", \"P\")\n",
    "\n",
    "print(txt.translate(mytable)) #returns a mapping table that can be used with the translate() method to replace specified characters.\n",
    "\n",
    "\n"
   ]
  },
  {
   "cell_type": "code",
   "execution_count": 18,
   "id": "3363738b",
   "metadata": {},
   "outputs": [
    {
     "name": "stdout",
     "output_type": "stream",
     "text": [
      "Institute Name: Saylani Mass IT Training\n",
      "Student Full Name: Adil Maqsood\n",
      "Student id : AI-1191102\n",
      "Age: 21\n",
      "\n",
      "\n"
     ]
    },
    {
     "data": {
      "text/plain": [
       "('Institute Name: Saylani Mass IT Training\\nStudent Full Name: ',\n",
       " 'Adil',\n",
       " ' Maqsood\\nStudent id : AI-1191102\\nAge: 21\\n\\n')"
      ]
     },
     "execution_count": 18,
     "metadata": {},
     "output_type": "execute_result"
    }
   ],
   "source": [
    "print(card)\n",
    "card.partition(\"Adil\") #Returns a tuple where the string is parted into three parts"
   ]
  },
  {
   "cell_type": "code",
   "execution_count": 20,
   "id": "9edde675",
   "metadata": {},
   "outputs": [
    {
     "name": "stdout",
     "output_type": "stream",
     "text": [
      "Institute Name: Saylani Mass IT Training\n",
      "Student Full Name: Adil Maqsood\n",
      "Student id : AI-1191102\n",
      "Age: 21\n",
      "\n",
      "\n"
     ]
    },
    {
     "data": {
      "text/plain": [
       "'Institute Name: Saylani Mass IT Training\\nStudent Full Name: ahsan Maqsood\\nStudent id : AI-1191102\\nAge: 21\\n\\n'"
      ]
     },
     "execution_count": 20,
     "metadata": {},
     "output_type": "execute_result"
    }
   ],
   "source": [
    "print(card)\n",
    "card.replace(\"Adil\" , \"ahsan\")"
   ]
  },
  {
   "cell_type": "code",
   "execution_count": 22,
   "id": "65f9b395",
   "metadata": {},
   "outputs": [
    {
     "name": "stdout",
     "output_type": "stream",
     "text": [
      "Institute Name: Saylani Mass IT Training\n",
      "Student Full Name: Adil Maqsood\n",
      "Student id : AI-1191102\n",
      "Age: 21\n",
      "\n",
      "\n"
     ]
    },
    {
     "data": {
      "text/plain": [
       "54"
      ]
     },
     "execution_count": 22,
     "metadata": {},
     "output_type": "execute_result"
    }
   ],
   "source": [
    "print(card)\n",
    "card.rfind(\"Name\")"
   ]
  },
  {
   "cell_type": "code",
   "execution_count": 24,
   "id": "f6c71136",
   "metadata": {},
   "outputs": [
    {
     "name": "stdout",
     "output_type": "stream",
     "text": [
      "Institute Name: Saylani Mass IT Training\n",
      "Student Full Name: Adil Maqsood\n",
      "Student id : AI-1191102\n",
      "Age: 21\n",
      "\n",
      "\n"
     ]
    },
    {
     "data": {
      "text/plain": [
       "60"
      ]
     },
     "execution_count": 24,
     "metadata": {},
     "output_type": "execute_result"
    }
   ],
   "source": [
    "print(card)\n",
    "card.rindex(\"Adil\") # rfind nd rindex both are same"
   ]
  },
  {
   "cell_type": "code",
   "execution_count": 30,
   "id": "2b0b4b2d",
   "metadata": {},
   "outputs": [
    {
     "name": "stdout",
     "output_type": "stream",
     "text": [
      "Institute Name: Saylani Mass IT Training\n",
      "Student Full Name: Adil Maqsood\n",
      "Student id : AI-1191102\n",
      "Age: 21\n",
      "\n",
      "\n"
     ]
    }
   ],
   "source": [
    "print(card.rjust(11)) #method will right align the string, using a specified character (space is default) as the fill character."
   ]
  },
  {
   "cell_type": "code",
   "execution_count": 32,
   "id": "a2ac96e6",
   "metadata": {},
   "outputs": [
    {
     "name": "stdout",
     "output_type": "stream",
     "text": [
      "Institute Name: Saylani Mass IT Training\n",
      "Student Full Name: Adil Maqsood\n",
      "Student id : AI-1191102\n",
      "Age: 21\n",
      "\n",
      "\n"
     ]
    },
    {
     "data": {
      "text/plain": [
       "('Institute Name: Saylani Mass IT Training\\nStudent Full ',\n",
       " 'Name',\n",
       " ': Adil Maqsood\\nStudent id : AI-1191102\\nAge: 21\\n\\n')"
      ]
     },
     "execution_count": 32,
     "metadata": {},
     "output_type": "execute_result"
    }
   ],
   "source": [
    "print(card)\n",
    "card.rpartition(\"Name\")"
   ]
  },
  {
   "cell_type": "code",
   "execution_count": 34,
   "id": "9b404648",
   "metadata": {},
   "outputs": [
    {
     "name": "stdout",
     "output_type": "stream",
     "text": [
      "Institute Name: Saylani Mass IT Training\n",
      "Student Full Name: Adil Maqsood\n",
      "Student id : AI-1191102\n",
      "Age: 21\n",
      "\n",
      "\n"
     ]
    },
    {
     "data": {
      "text/plain": [
       "['Institute Name: Saylani Mass IT Training\\nStudent Full Name: Adil Maqsood\\nStudent id : AI-1191102\\n',\n",
       " ': 21\\n\\n']"
      ]
     },
     "execution_count": 34,
     "metadata": {},
     "output_type": "execute_result"
    }
   ],
   "source": [
    "print(card)\n",
    "card.rsplit(\"Age\")"
   ]
  },
  {
   "cell_type": "code",
   "execution_count": 36,
   "id": "a239776a",
   "metadata": {},
   "outputs": [
    {
     "name": "stdout",
     "output_type": "stream",
     "text": [
      "Institute Name: Saylani Mass IT Training\n",
      "Student Full Name: Adil Maqsood\n",
      "Student id : AI-1191102\n",
      "Age: 21\n",
      "\n",
      "\n"
     ]
    },
    {
     "data": {
      "text/plain": [
       "'Institute Name: Saylani Mass IT Training\\nStudent Full Name: Adil Maqsood\\nStudent id : AI-1191102\\nAge: 21'"
      ]
     },
     "execution_count": 36,
     "metadata": {},
     "output_type": "execute_result"
    }
   ],
   "source": [
    "print(card)\n",
    "card.rstrip() #Returns a right trim version of the string"
   ]
  },
  {
   "cell_type": "code",
   "execution_count": 38,
   "id": "96ee996f",
   "metadata": {},
   "outputs": [
    {
     "name": "stdout",
     "output_type": "stream",
     "text": [
      "Institute Name: Saylani Mass IT Training\n",
      "Student Full Name: Adil Maqsood\n",
      "Student id : AI-1191102\n",
      "Age: 21\n",
      "\n",
      "\n"
     ]
    },
    {
     "data": {
      "text/plain": [
       "['Institute',\n",
       " 'Name:',\n",
       " 'Saylani',\n",
       " 'Mass',\n",
       " 'IT',\n",
       " 'Training',\n",
       " 'Student',\n",
       " 'Full',\n",
       " 'Name:',\n",
       " 'Adil',\n",
       " 'Maqsood',\n",
       " 'Student',\n",
       " 'id',\n",
       " ':',\n",
       " 'AI-1191102',\n",
       " 'Age:',\n",
       " '21']"
      ]
     },
     "execution_count": 38,
     "metadata": {},
     "output_type": "execute_result"
    }
   ],
   "source": [
    "print(card)\n",
    "card.split() #Splits the string at the specified separator, and returns a list"
   ]
  },
  {
   "cell_type": "code",
   "execution_count": 40,
   "id": "5f7008ef",
   "metadata": {},
   "outputs": [
    {
     "name": "stdout",
     "output_type": "stream",
     "text": [
      "Institute Name: Saylani Mass IT Training\n",
      "Student Full Name: Adil Maqsood\n",
      "Student id : AI-1191102\n",
      "Age: 21\n",
      "\n",
      "\n"
     ]
    },
    {
     "data": {
      "text/plain": [
       "['Institute Name: Saylani Mass IT Training',\n",
       " 'Student Full Name: Adil Maqsood',\n",
       " 'Student id : AI-1191102',\n",
       " 'Age: 21',\n",
       " '']"
      ]
     },
     "execution_count": 40,
     "metadata": {},
     "output_type": "execute_result"
    }
   ],
   "source": [
    "print(card)\n",
    "card.splitlines() #\tSplits the string at line breaks and returns a list"
   ]
  },
  {
   "cell_type": "code",
   "execution_count": 44,
   "id": "2ff1389a",
   "metadata": {},
   "outputs": [
    {
     "name": "stdout",
     "output_type": "stream",
     "text": [
      "Institute Name: Saylani Mass IT Training\n",
      "Student Full Name: Adil Maqsood\n",
      "Student id : AI-1191102\n",
      "Age: 21\n",
      "\n",
      "\n"
     ]
    },
    {
     "data": {
      "text/plain": [
       "False"
      ]
     },
     "execution_count": 44,
     "metadata": {},
     "output_type": "execute_result"
    }
   ],
   "source": [
    "print(card)\n",
    "card.startswith(\"Institue\") #returns true if the string starts with specified value "
   ]
  },
  {
   "cell_type": "code",
   "execution_count": 47,
   "id": "6d5cd1f3",
   "metadata": {},
   "outputs": [
    {
     "name": "stdout",
     "output_type": "stream",
     "text": [
      "Institute Name: Saylani Mass IT Training\n",
      "Student Full Name: Adil Maqsood\n",
      "Student id : AI-1191102\n",
      "Age: 21\n",
      "\n",
      "\n"
     ]
    },
    {
     "data": {
      "text/plain": [
       "'Institute Name: Saylani Mass IT Training\\nStudent Full Name: Adil Maqsood\\nStudent id : AI-1191102\\nAge: 21'"
      ]
     },
     "execution_count": 47,
     "metadata": {},
     "output_type": "execute_result"
    }
   ],
   "source": [
    "print(card)\n",
    "card.strip() #Returns a trimmed version of the string"
   ]
  },
  {
   "cell_type": "code",
   "execution_count": 48,
   "id": "3d02f349",
   "metadata": {},
   "outputs": [
    {
     "name": "stdout",
     "output_type": "stream",
     "text": [
      "Institute Name: Saylani Mass IT Training\n",
      "Student Full Name: Adil Maqsood\n",
      "Student id : AI-1191102\n",
      "Age: 21\n",
      "\n",
      "\n"
     ]
    },
    {
     "data": {
      "text/plain": [
       "'iNSTITUTE nAME: sAYLANI mASS it tRAINING\\nsTUDENT fULL nAME: aDIL mAQSOOD\\nsTUDENT ID : ai-1191102\\naGE: 21\\n\\n'"
      ]
     },
     "execution_count": 48,
     "metadata": {},
     "output_type": "execute_result"
    }
   ],
   "source": [
    "print(card)\n",
    "card.swapcase() #Swaps cases, lower case becomes upper case and vice versa"
   ]
  },
  {
   "cell_type": "code",
   "execution_count": 50,
   "id": "a9ebaf9c",
   "metadata": {},
   "outputs": [
    {
     "name": "stdout",
     "output_type": "stream",
     "text": [
      "Institute Name: Saylani Mass IT Training\n",
      "Student Full Name: Adil Maqsood\n",
      "Student id : AI-1191102\n",
      "Age: 21\n",
      "\n",
      "\n"
     ]
    },
    {
     "data": {
      "text/plain": [
       "'Institute Name: Saylani Mass It Training\\nStudent Full Name: Adil Maqsood\\nStudent Id : Ai-1191102\\nAge: 21\\n\\n'"
      ]
     },
     "execution_count": 50,
     "metadata": {},
     "output_type": "execute_result"
    }
   ],
   "source": [
    "print(card)\n",
    "card.title() #Converts the first character of each word to upper case"
   ]
  },
  {
   "cell_type": "code",
   "execution_count": 53,
   "id": "b0bdf4ad",
   "metadata": {},
   "outputs": [
    {
     "name": "stdout",
     "output_type": "stream",
     "text": [
      "Institute Name: Saylani Mass IT Training\n",
      "Student Full Name: Adil Maqsood\n",
      "Student id : AI-1191102\n",
      "Age: 21\n",
      "\n",
      "\n"
     ]
    },
    {
     "data": {
      "text/plain": [
       "'Institute Name: Saylani Mass IT Training\\nStudent Full Name: Adil Maqsood\\nStudent id : AI-1191102\\nAge: 21\\n\\n'"
      ]
     },
     "execution_count": 53,
     "metadata": {},
     "output_type": "execute_result"
    }
   ],
   "source": [
    "print(card)\n",
    "card.translate(\"Adil\") #in it we use a dictionary with ascii codes "
   ]
  },
  {
   "cell_type": "code",
   "execution_count": 54,
   "id": "94b51bef",
   "metadata": {},
   "outputs": [
    {
     "name": "stdout",
     "output_type": "stream",
     "text": [
      "Institute Name: Saylani Mass IT Training\n",
      "Student Full Name: Adil Maqsood\n",
      "Student id : AI-1191102\n",
      "Age: 21\n",
      "\n",
      "\n"
     ]
    },
    {
     "data": {
      "text/plain": [
       "'INSTITUTE NAME: SAYLANI MASS IT TRAINING\\nSTUDENT FULL NAME: ADIL MAQSOOD\\nSTUDENT ID : AI-1191102\\nAGE: 21\\n\\n'"
      ]
     },
     "execution_count": 54,
     "metadata": {},
     "output_type": "execute_result"
    }
   ],
   "source": [
    "print(card)\n",
    "card.upper() #Converts a string into upper case"
   ]
  },
  {
   "cell_type": "code",
   "execution_count": 57,
   "id": "526082ad",
   "metadata": {},
   "outputs": [
    {
     "name": "stdout",
     "output_type": "stream",
     "text": [
      "Institute Name: Saylani Mass IT Training\n",
      "Student Full Name: Adil Maqsood\n",
      "Student id : AI-1191102\n",
      "Age: 21\n",
      "\n",
      "\n"
     ]
    },
    {
     "data": {
      "text/plain": [
       "'Institute Name: Saylani Mass IT Training\\nStudent Full Name: Adil Maqsood\\nStudent id : AI-1191102\\nAge: 21\\n\\n'"
      ]
     },
     "execution_count": 57,
     "metadata": {},
     "output_type": "execute_result"
    }
   ],
   "source": [
    "print(card)\n",
    "card.zfill(1) #Fills the string with a specified number of 0 values at the beginning"
   ]
  },
  {
   "cell_type": "code",
   "execution_count": null,
   "id": "0600c2b0",
   "metadata": {},
   "outputs": [],
   "source": []
  }
 ],
 "metadata": {
  "kernelspec": {
   "display_name": "Python 3 (ipykernel)",
   "language": "python",
   "name": "python3"
  },
  "language_info": {
   "codemirror_mode": {
    "name": "ipython",
    "version": 3
   },
   "file_extension": ".py",
   "mimetype": "text/x-python",
   "name": "python",
   "nbconvert_exporter": "python",
   "pygments_lexer": "ipython3",
   "version": "3.9.13"
  }
 },
 "nbformat": 4,
 "nbformat_minor": 5
}
